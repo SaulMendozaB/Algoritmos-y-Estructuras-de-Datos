{
  "nbformat": 4,
  "nbformat_minor": 0,
  "metadata": {
    "colab": {
      "name": "Untitled0.ipynb",
      "provenance": [],
      "toc_visible": true,
      "authorship_tag": "ABX9TyML9/G5Bm90c4ZziCOMSzkI",
      "include_colab_link": true
    },
    "kernelspec": {
      "name": "python3",
      "display_name": "Python 3"
    },
    "language_info": {
      "name": "python"
    }
  },
  "cells": [
    {
      "cell_type": "markdown",
      "metadata": {
        "id": "view-in-github",
        "colab_type": "text"
      },
      "source": [
        "<a href=\"https://colab.research.google.com/github/SaulMendozaB/Algoritmos-y-Estructuras-de-Datos/blob/main/Ejercicios1.2.3.ipynb\" target=\"_parent\"><img src=\"https://colab.research.google.com/assets/colab-badge.svg\" alt=\"Open In Colab\"/></a>"
      ]
    },
    {
      "cell_type": "markdown",
      "source": [
        "# Ejercicio 1"
      ],
      "metadata": {
        "id": "ln1KqCq6_iqk"
      }
    },
    {
      "cell_type": "code",
      "source": [
        "%%writefile ejemplo1.cpp\n",
        "#include <iostream>\n",
        "using namespace std;\n",
        "int main(){\n",
        "    cout<<\"UPC\";\n",
        "    return 0;\n",
        "}"
      ],
      "metadata": {
        "colab": {
          "base_uri": "https://localhost:8080/"
        },
        "id": "HQsXnaPT-7QX",
        "outputId": "becb6e02-3fa7-4358-ca71-7d0ab66c7408"
      },
      "execution_count": null,
      "outputs": [
        {
          "output_type": "stream",
          "name": "stdout",
          "text": [
            "Overwriting ejemplo1.cpp\n"
          ]
        }
      ]
    },
    {
      "cell_type": "code",
      "source": [
        "!g++ -std=c++1z ejemplo1.cpp && ./a.out"
      ],
      "metadata": {
        "colab": {
          "base_uri": "https://localhost:8080/"
        },
        "id": "EFy4xZPn_aCt",
        "outputId": "cca7321e-68fa-43e9-f978-63c2e511cd1b"
      },
      "execution_count": null,
      "outputs": [
        {
          "output_type": "stream",
          "name": "stdout",
          "text": [
            "UPC"
          ]
        }
      ]
    },
    {
      "cell_type": "markdown",
      "source": [
        "# Ejercicio 2"
      ],
      "metadata": {
        "id": "1z7JVzbX-mWR"
      }
    },
    {
      "cell_type": "code",
      "execution_count": null,
      "metadata": {
        "colab": {
          "base_uri": "https://localhost:8080/"
        },
        "id": "Hg0QYJCkvE4Q",
        "outputId": "f50996aa-8c41-4e07-ac42-4ddc2b46270c"
      },
      "outputs": [
        {
          "output_type": "stream",
          "name": "stdout",
          "text": [
            "Overwriting Biblioteca.hpp\n"
          ]
        }
      ],
      "source": [
        "%%writefile Biblioteca.hpp\n",
        "//Definicion de bibliotecas, clases y funciones\n",
        "#include <iostream>\n",
        "#include <cstdlib>// srand, rand\n",
        "#include <ctime>//time\n",
        "\n",
        "using std::cout;\n",
        "using std::cin;\n",
        "//definición de la funcion\n",
        "void generar(short* a, size_t n);\n",
        "void listar(short*, size_t);\n",
        "void mayor(short*, size_t);\n",
        "void ordenar(short*, size_t);\n",
        "void mayorPromedio(short* a, size_t n);"
      ]
    },
    {
      "cell_type": "code",
      "source": [
        "%%writefile Biblioteca.cpp\n",
        "//implementacion de las bibliotecas, clases  y funciones\n",
        "#include \"Biblioteca.hpp\"\n",
        "\n",
        "void generar(short* a, size_t n){\n",
        "  for(size_t i=0;i<n;++i){\n",
        "      a[i]=rand()%101+100;//rango de 100 a 200    \n",
        "  }  \n",
        "}\n",
        "\n",
        "void listar(short* a, size_t n){\n",
        "for(size_t i=0;i<n;++i){\n",
        "      cout<<i<<\"-> \"<<a[i]<<\"\\n\";\n",
        "  }  \n",
        "}\n",
        "\n",
        "void mayor(short* a, size_t n){\n",
        "  short _mayor=a[0], _pos=-1;\n",
        "  \n",
        "for(size_t i=1;i<n;++i){\n",
        "  if(a[i]>_mayor){\n",
        "      _mayor=a[i];//actualizo el mayor\n",
        "      _pos=i;\n",
        "    }\n",
        "  }\n",
        "  cout<<\"El mayor valor es\"<<_mayor<<\" y se encuentra en la posicion\"<<_pos<<\"\\n\";\n",
        "}\n",
        "void ordenar(short* a, size_t n){\n",
        "  for(int i=0;i<n-1;++i){\n",
        "  for(int j=i+1;j<n;++j){\n",
        "   if(a[i]>a[j]){\n",
        "    short aux=a[i];\n",
        "    a[i]=a[j];\n",
        "    a[j]=aux;\n",
        "  }\n",
        "}\n",
        "    }\n",
        "}\n",
        "void mayorPromedio(short* a, size_t n){\n",
        "  float prom=0.0f;    \n",
        "  //obteniendo el promedio\n",
        "  for(int i=0;i<n-1;++i)\n",
        "        prom+=a[i];\n",
        "  prom/=n;//prom=prom/n   \n",
        "  //listar mayor al promedio\n",
        "  for(int i=0;i<n-1;++i)\n",
        "        if(a[i]>prom)cout<<i<<\"->\"<<a[i]<<\"\\n\";\n",
        "  }"
      ],
      "metadata": {
        "colab": {
          "base_uri": "https://localhost:8080/"
        },
        "id": "LctOeqav1kd5",
        "outputId": "3726e8e1-92ce-4cbe-a0ad-e5cc8a95214e"
      },
      "execution_count": null,
      "outputs": [
        {
          "output_type": "stream",
          "name": "stdout",
          "text": [
            "Overwriting Biblioteca.cpp\n"
          ]
        }
      ]
    },
    {
      "cell_type": "code",
      "source": [
        "%%writefile ejemplo2.cpp\n",
        "#include \"Biblioteca.hpp\"\n",
        "int main() {\n",
        "short* arreglo=new short[100];  \n",
        "srand(time(NULL));//inicializacion de la semilla\n",
        "generar(arreglo,100);\n",
        "listar(arreglo, 100);\n",
        "//mayor(arreglo, 100);  \n",
        "ordenar(arreglo, 100);\n",
        "cout<<\"-------------\\n\";\n",
        "//listar(arreglo, 100);\n",
        "  mayorPromedio(arreglo, 100);\n",
        "}"
      ],
      "metadata": {
        "colab": {
          "base_uri": "https://localhost:8080/"
        },
        "id": "niKQ0UiR1uH5",
        "outputId": "bfc87c1e-6efb-49aa-f4bd-4b60bc35f9f8"
      },
      "execution_count": null,
      "outputs": [
        {
          "output_type": "stream",
          "name": "stdout",
          "text": [
            "Overwriting ejemplo2.cpp\n"
          ]
        }
      ]
    },
    {
      "cell_type": "code",
      "source": [
        "!g++ -std=c++1z Biblioteca.cpp ejemplo2.cpp && ./a.out"
      ],
      "metadata": {
        "colab": {
          "base_uri": "https://localhost:8080/"
        },
        "id": "hu7uyDTs3Ehn",
        "outputId": "d4299007-3ef9-4a7f-f6e0-fe50caed7f77"
      },
      "execution_count": null,
      "outputs": [
        {
          "output_type": "stream",
          "name": "stdout",
          "text": [
            "0-> 183\n",
            "1-> 116\n",
            "2-> 118\n",
            "3-> 190\n",
            "4-> 112\n",
            "5-> 157\n",
            "6-> 132\n",
            "7-> 165\n",
            "8-> 154\n",
            "9-> 142\n",
            "10-> 142\n",
            "11-> 169\n",
            "12-> 157\n",
            "13-> 137\n",
            "14-> 132\n",
            "15-> 137\n",
            "16-> 138\n",
            "17-> 181\n",
            "18-> 138\n",
            "19-> 111\n",
            "20-> 142\n",
            "21-> 177\n",
            "22-> 145\n",
            "23-> 110\n",
            "24-> 108\n",
            "25-> 190\n",
            "26-> 168\n",
            "27-> 114\n",
            "28-> 162\n",
            "29-> 120\n",
            "30-> 171\n",
            "31-> 110\n",
            "32-> 136\n",
            "33-> 155\n",
            "34-> 167\n",
            "35-> 114\n",
            "36-> 111\n",
            "37-> 165\n",
            "38-> 179\n",
            "39-> 131\n",
            "40-> 107\n",
            "41-> 121\n",
            "42-> 200\n",
            "43-> 130\n",
            "44-> 124\n",
            "45-> 131\n",
            "46-> 167\n",
            "47-> 162\n",
            "48-> 178\n",
            "49-> 171\n",
            "50-> 139\n",
            "51-> 119\n",
            "52-> 148\n",
            "53-> 184\n",
            "54-> 196\n",
            "55-> 156\n",
            "56-> 173\n",
            "57-> 163\n",
            "58-> 136\n",
            "59-> 100\n",
            "60-> 183\n",
            "61-> 173\n",
            "62-> 177\n",
            "63-> 119\n",
            "64-> 127\n",
            "65-> 109\n",
            "66-> 133\n",
            "67-> 104\n",
            "68-> 175\n",
            "69-> 179\n",
            "70-> 135\n",
            "71-> 148\n",
            "72-> 200\n",
            "73-> 134\n",
            "74-> 178\n",
            "75-> 190\n",
            "76-> 131\n",
            "77-> 110\n",
            "78-> 117\n",
            "79-> 175\n",
            "80-> 181\n",
            "81-> 156\n",
            "82-> 194\n",
            "83-> 128\n",
            "84-> 105\n",
            "85-> 155\n",
            "86-> 150\n",
            "87-> 144\n",
            "88-> 118\n",
            "89-> 186\n",
            "90-> 110\n",
            "91-> 100\n",
            "92-> 124\n",
            "93-> 187\n",
            "94-> 186\n",
            "95-> 151\n",
            "96-> 163\n",
            "97-> 119\n",
            "98-> 155\n",
            "99-> 137\n",
            "-------------\n",
            "51->148\n",
            "52->148\n",
            "53->150\n",
            "54->151\n",
            "55->154\n",
            "56->155\n",
            "57->155\n",
            "58->155\n",
            "59->156\n",
            "60->156\n",
            "61->157\n",
            "62->157\n",
            "63->162\n",
            "64->162\n",
            "65->163\n",
            "66->163\n",
            "67->165\n",
            "68->165\n",
            "69->167\n",
            "70->167\n",
            "71->168\n",
            "72->169\n",
            "73->171\n",
            "74->171\n",
            "75->173\n",
            "76->173\n",
            "77->175\n",
            "78->175\n",
            "79->177\n",
            "80->177\n",
            "81->178\n",
            "82->178\n",
            "83->179\n",
            "84->179\n",
            "85->181\n",
            "86->181\n",
            "87->183\n",
            "88->183\n",
            "89->184\n",
            "90->186\n",
            "91->186\n",
            "92->187\n",
            "93->190\n",
            "94->190\n",
            "95->190\n",
            "96->194\n",
            "97->196\n",
            "98->200\n"
          ]
        }
      ]
    },
    {
      "cell_type": "markdown",
      "source": [
        "# Ejercicio 3"
      ],
      "metadata": {
        "id": "entxx9CT-dKS"
      }
    },
    {
      "cell_type": "code",
      "source": [
        "%%writefile Biblioteca.hpp\n",
        "\n",
        "#include <iostream>\n",
        "\n",
        "#include <cstdlib>// srand, rand\n",
        "\n",
        "#include <ctime>//time\n",
        "\n",
        "using std::cout;\n",
        "\n",
        "using std::cin;\n",
        "\n",
        "template <typename Generico>\n",
        "\n",
        " class MyVector{\n",
        "\n",
        "    Generico* a;\n",
        "\n",
        "    size_t n;\n",
        "\n",
        "    public:\n",
        "\n",
        "    MyVector(){a=new Generico[10]; n=0;}\n",
        "\n",
        "\n",
        "\n",
        "    void insertar(Generico obj ){\n",
        "\n",
        "        if(n<10){\n",
        "\n",
        "        a[n]=obj;\n",
        "\n",
        "        n++;\n",
        "\n",
        "        }\n",
        "\n",
        "    }\n",
        "\n",
        "\n",
        "\n",
        "    void listar(){\n",
        "\n",
        "      for(size_t i=0;i<n;++i){\n",
        "\n",
        "        cout<<i<<\"-> \"<<a[i]<<\"\\n\";\n",
        "\n",
        "}\n",
        "\n",
        "}\n",
        "\n",
        " };"
      ],
      "metadata": {
        "colab": {
          "base_uri": "https://localhost:8080/"
        },
        "id": "9wRZAE6x52Qr",
        "outputId": "be438ea8-5ce9-4c21-927f-e424cfe1bc0a"
      },
      "execution_count": null,
      "outputs": [
        {
          "output_type": "stream",
          "name": "stdout",
          "text": [
            "Overwriting Biblioteca.hpp\n"
          ]
        }
      ]
    },
    {
      "cell_type": "code",
      "source": [
        "%%writefile Ejemplo3.cpp\n",
        "\n",
        "\n",
        "\n",
        "#include<iostream>\n",
        "\n",
        "#include\"Biblioteca.hpp\"\n",
        "\n",
        "using namespace std;\n",
        "\n",
        "int main(){\n",
        "\n",
        "    MyVector<int>*arr1 =new  MyVector<int>;\n",
        "\n",
        "    MyVector<float>*arr2 =new  MyVector<float>;\n",
        "\n",
        "    MyVector<long>*arr3 =new  MyVector<long>;\n",
        "\n",
        "\n",
        "\n",
        "    for(size_t i=0;  i<10; i++){\n",
        "\n",
        "        arr1->insertar(i);\n",
        "\n",
        "        arr2->insertar(i*1.789);\n",
        "\n",
        "        arr3->insertar(i*10000);\n",
        "\n",
        "    }\n",
        "\n",
        "      arr1->listar();\n",
        "\n",
        "      cout<<\"---------------\"<<endl;\n",
        "\n",
        "      arr2->listar();\n",
        "\n",
        "      cout<<\"---------------\"<<endl;\n",
        "\n",
        "      arr3->listar();\n",
        "\n",
        "}"
      ],
      "metadata": {
        "colab": {
          "base_uri": "https://localhost:8080/"
        },
        "id": "-rVWPERQ7EhZ",
        "outputId": "3ecdadee-ccc6-45b8-96c7-046c9c14ae7a"
      },
      "execution_count": null,
      "outputs": [
        {
          "output_type": "stream",
          "name": "stdout",
          "text": [
            "Writing Ejemplo3.cpp\n"
          ]
        }
      ]
    },
    {
      "cell_type": "code",
      "source": [
        "!g++ -std=c++11 Ejemplo3.cpp  && ./a.out"
      ],
      "metadata": {
        "colab": {
          "base_uri": "https://localhost:8080/"
        },
        "id": "N4uU7NRIC2hh",
        "outputId": "bc39acf3-7ebf-417f-c742-ac67d0d0d173"
      },
      "execution_count": null,
      "outputs": [
        {
          "output_type": "stream",
          "name": "stdout",
          "text": [
            "0-> 0\n",
            "1-> 1\n",
            "2-> 2\n",
            "3-> 3\n",
            "4-> 4\n",
            "5-> 5\n",
            "6-> 6\n",
            "7-> 7\n",
            "8-> 8\n",
            "9-> 9\n",
            "---------------\n",
            "0-> 0\n",
            "1-> 1.789\n",
            "2-> 3.578\n",
            "3-> 5.367\n",
            "4-> 7.156\n",
            "5-> 8.945\n",
            "6-> 10.734\n",
            "7-> 12.523\n",
            "8-> 14.312\n",
            "9-> 16.101\n",
            "---------------\n",
            "0-> 0\n",
            "1-> 10000\n",
            "2-> 20000\n",
            "3-> 30000\n",
            "4-> 40000\n",
            "5-> 50000\n",
            "6-> 60000\n",
            "7-> 70000\n",
            "8-> 80000\n",
            "9-> 90000\n"
          ]
        }
      ]
    }
  ]
}